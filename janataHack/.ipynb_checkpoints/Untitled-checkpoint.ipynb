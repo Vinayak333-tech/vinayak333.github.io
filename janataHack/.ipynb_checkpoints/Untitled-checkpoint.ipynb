{
 "cells": [
  {
   "cell_type": "code",
   "execution_count": 1,
   "metadata": {},
   "outputs": [],
   "source": [
    "import pandas as pd\n",
    "import numpy as np\n",
    "import matplotlib.pyplot as plt\n",
    "%matplotlib inline\n",
    "import seaborn as sns"
   ]
  },
  {
   "cell_type": "code",
   "execution_count": 2,
   "metadata": {},
   "outputs": [],
   "source": [
    "train=pd.read_csv(\"train.csv\")\n",
    "test=pd.read_csv(\"test.csv\")"
   ]
  },
  {
   "cell_type": "code",
   "execution_count": 3,
   "metadata": {},
   "outputs": [
    {
     "data": {
      "text/html": [
       "<div>\n",
       "<style scoped>\n",
       "    .dataframe tbody tr th:only-of-type {\n",
       "        vertical-align: middle;\n",
       "    }\n",
       "\n",
       "    .dataframe tbody tr th {\n",
       "        vertical-align: top;\n",
       "    }\n",
       "\n",
       "    .dataframe thead th {\n",
       "        text-align: right;\n",
       "    }\n",
       "</style>\n",
       "<table border=\"1\" class=\"dataframe\">\n",
       "  <thead>\n",
       "    <tr style=\"text-align: right;\">\n",
       "      <th></th>\n",
       "      <th>Loan_ID</th>\n",
       "      <th>Loan_Amount_Requested</th>\n",
       "      <th>Length_Employed</th>\n",
       "      <th>Home_Owner</th>\n",
       "      <th>Annual_Income</th>\n",
       "      <th>Income_Verified</th>\n",
       "      <th>Purpose_Of_Loan</th>\n",
       "      <th>Debt_To_Income</th>\n",
       "      <th>Inquiries_Last_6Mo</th>\n",
       "      <th>Months_Since_Deliquency</th>\n",
       "      <th>Number_Open_Accounts</th>\n",
       "      <th>Total_Accounts</th>\n",
       "      <th>Gender</th>\n",
       "      <th>Interest_Rate</th>\n",
       "    </tr>\n",
       "  </thead>\n",
       "  <tbody>\n",
       "    <tr>\n",
       "      <th>0</th>\n",
       "      <td>10000001</td>\n",
       "      <td>7,000</td>\n",
       "      <td>&lt; 1 year</td>\n",
       "      <td>Rent</td>\n",
       "      <td>68000.0</td>\n",
       "      <td>not verified</td>\n",
       "      <td>car</td>\n",
       "      <td>18.37</td>\n",
       "      <td>0</td>\n",
       "      <td>NaN</td>\n",
       "      <td>9</td>\n",
       "      <td>14</td>\n",
       "      <td>Female</td>\n",
       "      <td>1</td>\n",
       "    </tr>\n",
       "    <tr>\n",
       "      <th>1</th>\n",
       "      <td>10000002</td>\n",
       "      <td>30,000</td>\n",
       "      <td>4 years</td>\n",
       "      <td>Mortgage</td>\n",
       "      <td>NaN</td>\n",
       "      <td>VERIFIED - income</td>\n",
       "      <td>debt_consolidation</td>\n",
       "      <td>14.93</td>\n",
       "      <td>0</td>\n",
       "      <td>17.0</td>\n",
       "      <td>12</td>\n",
       "      <td>24</td>\n",
       "      <td>Female</td>\n",
       "      <td>3</td>\n",
       "    </tr>\n",
       "    <tr>\n",
       "      <th>2</th>\n",
       "      <td>10000003</td>\n",
       "      <td>24,725</td>\n",
       "      <td>7 years</td>\n",
       "      <td>Mortgage</td>\n",
       "      <td>75566.4</td>\n",
       "      <td>VERIFIED - income source</td>\n",
       "      <td>debt_consolidation</td>\n",
       "      <td>15.88</td>\n",
       "      <td>0</td>\n",
       "      <td>NaN</td>\n",
       "      <td>12</td>\n",
       "      <td>16</td>\n",
       "      <td>Male</td>\n",
       "      <td>3</td>\n",
       "    </tr>\n",
       "    <tr>\n",
       "      <th>3</th>\n",
       "      <td>10000004</td>\n",
       "      <td>16,000</td>\n",
       "      <td>&lt; 1 year</td>\n",
       "      <td>NaN</td>\n",
       "      <td>56160.0</td>\n",
       "      <td>VERIFIED - income source</td>\n",
       "      <td>debt_consolidation</td>\n",
       "      <td>14.34</td>\n",
       "      <td>3</td>\n",
       "      <td>NaN</td>\n",
       "      <td>16</td>\n",
       "      <td>22</td>\n",
       "      <td>Male</td>\n",
       "      <td>3</td>\n",
       "    </tr>\n",
       "    <tr>\n",
       "      <th>4</th>\n",
       "      <td>10000005</td>\n",
       "      <td>17,000</td>\n",
       "      <td>8 years</td>\n",
       "      <td>Own</td>\n",
       "      <td>96000.0</td>\n",
       "      <td>VERIFIED - income source</td>\n",
       "      <td>debt_consolidation</td>\n",
       "      <td>22.17</td>\n",
       "      <td>1</td>\n",
       "      <td>NaN</td>\n",
       "      <td>19</td>\n",
       "      <td>30</td>\n",
       "      <td>Female</td>\n",
       "      <td>1</td>\n",
       "    </tr>\n",
       "  </tbody>\n",
       "</table>\n",
       "</div>"
      ],
      "text/plain": [
       "    Loan_ID Loan_Amount_Requested Length_Employed Home_Owner  Annual_Income  \\\n",
       "0  10000001                 7,000        < 1 year       Rent        68000.0   \n",
       "1  10000002                30,000         4 years   Mortgage            NaN   \n",
       "2  10000003                24,725         7 years   Mortgage        75566.4   \n",
       "3  10000004                16,000        < 1 year        NaN        56160.0   \n",
       "4  10000005                17,000         8 years        Own        96000.0   \n",
       "\n",
       "            Income_Verified     Purpose_Of_Loan  Debt_To_Income  \\\n",
       "0              not verified                 car           18.37   \n",
       "1         VERIFIED - income  debt_consolidation           14.93   \n",
       "2  VERIFIED - income source  debt_consolidation           15.88   \n",
       "3  VERIFIED - income source  debt_consolidation           14.34   \n",
       "4  VERIFIED - income source  debt_consolidation           22.17   \n",
       "\n",
       "   Inquiries_Last_6Mo  Months_Since_Deliquency  Number_Open_Accounts  \\\n",
       "0                   0                      NaN                     9   \n",
       "1                   0                     17.0                    12   \n",
       "2                   0                      NaN                    12   \n",
       "3                   3                      NaN                    16   \n",
       "4                   1                      NaN                    19   \n",
       "\n",
       "   Total_Accounts  Gender  Interest_Rate  \n",
       "0              14  Female              1  \n",
       "1              24  Female              3  \n",
       "2              16    Male              3  \n",
       "3              22    Male              3  \n",
       "4              30  Female              1  "
      ]
     },
     "execution_count": 3,
     "metadata": {},
     "output_type": "execute_result"
    }
   ],
   "source": [
    "train.head()"
   ]
  },
  {
   "cell_type": "code",
   "execution_count": 6,
   "metadata": {},
   "outputs": [
    {
     "data": {
      "text/plain": [
       "Index(['Loan_ID', 'Loan_Amount_Requested', 'Length_Employed', 'Home_Owner',\n",
       "       'Annual_Income', 'Income_Verified', 'Purpose_Of_Loan', 'Debt_To_Income',\n",
       "       'Inquiries_Last_6Mo', 'Months_Since_Deliquency', 'Number_Open_Accounts',\n",
       "       'Total_Accounts', 'Gender', 'Interest_Rate'],\n",
       "      dtype='object')"
      ]
     },
     "execution_count": 6,
     "metadata": {},
     "output_type": "execute_result"
    }
   ],
   "source": [
    "train.columns"
   ]
  },
  {
   "cell_type": "code",
   "execution_count": 4,
   "metadata": {},
   "outputs": [
    {
     "data": {
      "text/plain": [
       "2    70580\n",
       "3    59923\n",
       "1    33806\n",
       "Name: Interest_Rate, dtype: int64"
      ]
     },
     "execution_count": 4,
     "metadata": {},
     "output_type": "execute_result"
    }
   ],
   "source": [
    "train.Interest_Rate.value_counts()"
   ]
  },
  {
   "cell_type": "code",
   "execution_count": 8,
   "metadata": {},
   "outputs": [
    {
     "name": "stdout",
     "output_type": "stream",
     "text": [
      "<class 'pandas.core.frame.DataFrame'>\n",
      "RangeIndex: 164309 entries, 0 to 164308\n",
      "Data columns (total 14 columns):\n",
      " #   Column                   Non-Null Count   Dtype  \n",
      "---  ------                   --------------   -----  \n",
      " 0   Loan_ID                  164309 non-null  int64  \n",
      " 1   Loan_Amount_Requested    164309 non-null  object \n",
      " 2   Length_Employed          156938 non-null  object \n",
      " 3   Home_Owner               138960 non-null  object \n",
      " 4   Annual_Income            139207 non-null  float64\n",
      " 5   Income_Verified          164309 non-null  object \n",
      " 6   Purpose_Of_Loan          164309 non-null  object \n",
      " 7   Debt_To_Income           164309 non-null  float64\n",
      " 8   Inquiries_Last_6Mo       164309 non-null  int64  \n",
      " 9   Months_Since_Deliquency  75930 non-null   float64\n",
      " 10  Number_Open_Accounts     164309 non-null  int64  \n",
      " 11  Total_Accounts           164309 non-null  int64  \n",
      " 12  Gender                   164309 non-null  object \n",
      " 13  Interest_Rate            164309 non-null  int64  \n",
      "dtypes: float64(3), int64(5), object(6)\n",
      "memory usage: 17.6+ MB\n"
     ]
    }
   ],
   "source": [
    "train.info()"
   ]
  },
  {
   "cell_type": "code",
   "execution_count": 9,
   "metadata": {},
   "outputs": [
    {
     "data": {
      "text/html": [
       "<div>\n",
       "<style scoped>\n",
       "    .dataframe tbody tr th:only-of-type {\n",
       "        vertical-align: middle;\n",
       "    }\n",
       "\n",
       "    .dataframe tbody tr th {\n",
       "        vertical-align: top;\n",
       "    }\n",
       "\n",
       "    .dataframe thead th {\n",
       "        text-align: right;\n",
       "    }\n",
       "</style>\n",
       "<table border=\"1\" class=\"dataframe\">\n",
       "  <thead>\n",
       "    <tr style=\"text-align: right;\">\n",
       "      <th></th>\n",
       "      <th>Loan_ID</th>\n",
       "      <th>Loan_Amount_Requested</th>\n",
       "      <th>Length_Employed</th>\n",
       "      <th>Home_Owner</th>\n",
       "      <th>Annual_Income</th>\n",
       "      <th>Income_Verified</th>\n",
       "      <th>Purpose_Of_Loan</th>\n",
       "      <th>Debt_To_Income</th>\n",
       "      <th>Inquiries_Last_6Mo</th>\n",
       "      <th>Months_Since_Deliquency</th>\n",
       "      <th>Number_Open_Accounts</th>\n",
       "      <th>Total_Accounts</th>\n",
       "      <th>Gender</th>\n",
       "    </tr>\n",
       "  </thead>\n",
       "  <tbody>\n",
       "    <tr>\n",
       "      <th>0</th>\n",
       "      <td>10164310</td>\n",
       "      <td>27,500</td>\n",
       "      <td>10+ years</td>\n",
       "      <td>Mortgage</td>\n",
       "      <td>129000.0</td>\n",
       "      <td>VERIFIED - income</td>\n",
       "      <td>debt_consolidation</td>\n",
       "      <td>12.87</td>\n",
       "      <td>0</td>\n",
       "      <td>68.0</td>\n",
       "      <td>10</td>\n",
       "      <td>37</td>\n",
       "      <td>Male</td>\n",
       "    </tr>\n",
       "    <tr>\n",
       "      <th>1</th>\n",
       "      <td>10164311</td>\n",
       "      <td>26,000</td>\n",
       "      <td>10+ years</td>\n",
       "      <td>NaN</td>\n",
       "      <td>110000.0</td>\n",
       "      <td>not verified</td>\n",
       "      <td>credit_card</td>\n",
       "      <td>11.37</td>\n",
       "      <td>0</td>\n",
       "      <td>NaN</td>\n",
       "      <td>6</td>\n",
       "      <td>23</td>\n",
       "      <td>Male</td>\n",
       "    </tr>\n",
       "    <tr>\n",
       "      <th>2</th>\n",
       "      <td>10164312</td>\n",
       "      <td>6,075</td>\n",
       "      <td>&lt; 1 year</td>\n",
       "      <td>Rent</td>\n",
       "      <td>75000.0</td>\n",
       "      <td>VERIFIED - income</td>\n",
       "      <td>debt_consolidation</td>\n",
       "      <td>6.83</td>\n",
       "      <td>2</td>\n",
       "      <td>NaN</td>\n",
       "      <td>5</td>\n",
       "      <td>20</td>\n",
       "      <td>Male</td>\n",
       "    </tr>\n",
       "    <tr>\n",
       "      <th>3</th>\n",
       "      <td>10164313</td>\n",
       "      <td>12,000</td>\n",
       "      <td>10+ years</td>\n",
       "      <td>Mortgage</td>\n",
       "      <td>73000.0</td>\n",
       "      <td>VERIFIED - income source</td>\n",
       "      <td>debt_consolidation</td>\n",
       "      <td>7.76</td>\n",
       "      <td>0</td>\n",
       "      <td>NaN</td>\n",
       "      <td>6</td>\n",
       "      <td>8</td>\n",
       "      <td>Male</td>\n",
       "    </tr>\n",
       "    <tr>\n",
       "      <th>4</th>\n",
       "      <td>10164314</td>\n",
       "      <td>35,000</td>\n",
       "      <td>&lt; 1 year</td>\n",
       "      <td>Mortgage</td>\n",
       "      <td>156000.0</td>\n",
       "      <td>not verified</td>\n",
       "      <td>debt_consolidation</td>\n",
       "      <td>9.62</td>\n",
       "      <td>0</td>\n",
       "      <td>26.0</td>\n",
       "      <td>9</td>\n",
       "      <td>21</td>\n",
       "      <td>Male</td>\n",
       "    </tr>\n",
       "  </tbody>\n",
       "</table>\n",
       "</div>"
      ],
      "text/plain": [
       "    Loan_ID Loan_Amount_Requested Length_Employed Home_Owner  Annual_Income  \\\n",
       "0  10164310                27,500       10+ years   Mortgage       129000.0   \n",
       "1  10164311                26,000       10+ years        NaN       110000.0   \n",
       "2  10164312                 6,075        < 1 year       Rent        75000.0   \n",
       "3  10164313                12,000       10+ years   Mortgage        73000.0   \n",
       "4  10164314                35,000        < 1 year   Mortgage       156000.0   \n",
       "\n",
       "            Income_Verified     Purpose_Of_Loan  Debt_To_Income  \\\n",
       "0         VERIFIED - income  debt_consolidation           12.87   \n",
       "1              not verified         credit_card           11.37   \n",
       "2         VERIFIED - income  debt_consolidation            6.83   \n",
       "3  VERIFIED - income source  debt_consolidation            7.76   \n",
       "4              not verified  debt_consolidation            9.62   \n",
       "\n",
       "   Inquiries_Last_6Mo  Months_Since_Deliquency  Number_Open_Accounts  \\\n",
       "0                   0                     68.0                    10   \n",
       "1                   0                      NaN                     6   \n",
       "2                   2                      NaN                     5   \n",
       "3                   0                      NaN                     6   \n",
       "4                   0                     26.0                     9   \n",
       "\n",
       "   Total_Accounts Gender  \n",
       "0              37   Male  \n",
       "1              23   Male  \n",
       "2              20   Male  \n",
       "3               8   Male  \n",
       "4              21   Male  "
      ]
     },
     "execution_count": 9,
     "metadata": {},
     "output_type": "execute_result"
    }
   ],
   "source": [
    "test.head()"
   ]
  },
  {
   "cell_type": "code",
   "execution_count": 10,
   "metadata": {},
   "outputs": [
    {
     "data": {
      "text/plain": [
       "Loan_ID                        0\n",
       "Loan_Amount_Requested          0\n",
       "Length_Employed             7371\n",
       "Home_Owner                 25349\n",
       "Annual_Income              25102\n",
       "Income_Verified                0\n",
       "Purpose_Of_Loan                0\n",
       "Debt_To_Income                 0\n",
       "Inquiries_Last_6Mo             0\n",
       "Months_Since_Deliquency    88379\n",
       "Number_Open_Accounts           0\n",
       "Total_Accounts                 0\n",
       "Gender                         0\n",
       "Interest_Rate                  0\n",
       "dtype: int64"
      ]
     },
     "execution_count": 10,
     "metadata": {},
     "output_type": "execute_result"
    }
   ],
   "source": [
    "train.isnull().sum()"
   ]
  },
  {
   "cell_type": "code",
   "execution_count": 12,
   "metadata": {},
   "outputs": [
    {
     "data": {
      "text/plain": [
       "Loan_ID                        0\n",
       "Loan_Amount_Requested          0\n",
       "Length_Employed             4936\n",
       "Home_Owner                 16711\n",
       "Annual_Income              16898\n",
       "Income_Verified                0\n",
       "Purpose_Of_Loan                0\n",
       "Debt_To_Income                 0\n",
       "Inquiries_Last_6Mo             0\n",
       "Months_Since_Deliquency    58859\n",
       "Number_Open_Accounts           0\n",
       "Total_Accounts                 0\n",
       "Gender                         0\n",
       "dtype: int64"
      ]
     },
     "execution_count": 12,
     "metadata": {},
     "output_type": "execute_result"
    }
   ],
   "source": [
    "test.isnull().sum()"
   ]
  },
  {
   "cell_type": "code",
   "execution_count": 5,
   "metadata": {},
   "outputs": [
    {
     "data": {
      "text/plain": [
       "(164309, 14)"
      ]
     },
     "execution_count": 5,
     "metadata": {},
     "output_type": "execute_result"
    }
   ],
   "source": [
    "train_org=train.copy()\n",
    "test_org=test.copy()\n",
    "train_org.shape"
   ]
  },
  {
   "cell_type": "code",
   "execution_count": 6,
   "metadata": {},
   "outputs": [],
   "source": [
    "final=train.append(test,ignore_index=True)"
   ]
  },
  {
   "cell_type": "code",
   "execution_count": 7,
   "metadata": {},
   "outputs": [
    {
     "data": {
      "text/plain": [
       "(273850, 14)"
      ]
     },
     "execution_count": 7,
     "metadata": {},
     "output_type": "execute_result"
    }
   ],
   "source": [
    "final.shape"
   ]
  },
  {
   "cell_type": "code",
   "execution_count": 8,
   "metadata": {},
   "outputs": [
    {
     "data": {
      "text/html": [
       "<div>\n",
       "<style scoped>\n",
       "    .dataframe tbody tr th:only-of-type {\n",
       "        vertical-align: middle;\n",
       "    }\n",
       "\n",
       "    .dataframe tbody tr th {\n",
       "        vertical-align: top;\n",
       "    }\n",
       "\n",
       "    .dataframe thead th {\n",
       "        text-align: right;\n",
       "    }\n",
       "</style>\n",
       "<table border=\"1\" class=\"dataframe\">\n",
       "  <thead>\n",
       "    <tr style=\"text-align: right;\">\n",
       "      <th></th>\n",
       "      <th>Loan_ID</th>\n",
       "      <th>Loan_Amount_Requested</th>\n",
       "      <th>Length_Employed</th>\n",
       "      <th>Home_Owner</th>\n",
       "      <th>Annual_Income</th>\n",
       "      <th>Income_Verified</th>\n",
       "      <th>Purpose_Of_Loan</th>\n",
       "      <th>Debt_To_Income</th>\n",
       "      <th>Inquiries_Last_6Mo</th>\n",
       "      <th>Months_Since_Deliquency</th>\n",
       "      <th>Number_Open_Accounts</th>\n",
       "      <th>Total_Accounts</th>\n",
       "      <th>Gender</th>\n",
       "      <th>Interest_Rate</th>\n",
       "    </tr>\n",
       "  </thead>\n",
       "  <tbody>\n",
       "    <tr>\n",
       "      <th>0</th>\n",
       "      <td>10000001</td>\n",
       "      <td>7,000</td>\n",
       "      <td>&lt; 1 year</td>\n",
       "      <td>Rent</td>\n",
       "      <td>68000.0</td>\n",
       "      <td>not verified</td>\n",
       "      <td>car</td>\n",
       "      <td>18.37</td>\n",
       "      <td>0</td>\n",
       "      <td>NaN</td>\n",
       "      <td>9</td>\n",
       "      <td>14</td>\n",
       "      <td>Female</td>\n",
       "      <td>1.0</td>\n",
       "    </tr>\n",
       "    <tr>\n",
       "      <th>1</th>\n",
       "      <td>10000002</td>\n",
       "      <td>30,000</td>\n",
       "      <td>4 years</td>\n",
       "      <td>Mortgage</td>\n",
       "      <td>NaN</td>\n",
       "      <td>VERIFIED - income</td>\n",
       "      <td>debt_consolidation</td>\n",
       "      <td>14.93</td>\n",
       "      <td>0</td>\n",
       "      <td>17.0</td>\n",
       "      <td>12</td>\n",
       "      <td>24</td>\n",
       "      <td>Female</td>\n",
       "      <td>3.0</td>\n",
       "    </tr>\n",
       "    <tr>\n",
       "      <th>2</th>\n",
       "      <td>10000003</td>\n",
       "      <td>24,725</td>\n",
       "      <td>7 years</td>\n",
       "      <td>Mortgage</td>\n",
       "      <td>75566.4</td>\n",
       "      <td>VERIFIED - income source</td>\n",
       "      <td>debt_consolidation</td>\n",
       "      <td>15.88</td>\n",
       "      <td>0</td>\n",
       "      <td>NaN</td>\n",
       "      <td>12</td>\n",
       "      <td>16</td>\n",
       "      <td>Male</td>\n",
       "      <td>3.0</td>\n",
       "    </tr>\n",
       "    <tr>\n",
       "      <th>3</th>\n",
       "      <td>10000004</td>\n",
       "      <td>16,000</td>\n",
       "      <td>&lt; 1 year</td>\n",
       "      <td>NaN</td>\n",
       "      <td>56160.0</td>\n",
       "      <td>VERIFIED - income source</td>\n",
       "      <td>debt_consolidation</td>\n",
       "      <td>14.34</td>\n",
       "      <td>3</td>\n",
       "      <td>NaN</td>\n",
       "      <td>16</td>\n",
       "      <td>22</td>\n",
       "      <td>Male</td>\n",
       "      <td>3.0</td>\n",
       "    </tr>\n",
       "    <tr>\n",
       "      <th>4</th>\n",
       "      <td>10000005</td>\n",
       "      <td>17,000</td>\n",
       "      <td>8 years</td>\n",
       "      <td>Own</td>\n",
       "      <td>96000.0</td>\n",
       "      <td>VERIFIED - income source</td>\n",
       "      <td>debt_consolidation</td>\n",
       "      <td>22.17</td>\n",
       "      <td>1</td>\n",
       "      <td>NaN</td>\n",
       "      <td>19</td>\n",
       "      <td>30</td>\n",
       "      <td>Female</td>\n",
       "      <td>1.0</td>\n",
       "    </tr>\n",
       "  </tbody>\n",
       "</table>\n",
       "</div>"
      ],
      "text/plain": [
       "    Loan_ID Loan_Amount_Requested Length_Employed Home_Owner  Annual_Income  \\\n",
       "0  10000001                 7,000        < 1 year       Rent        68000.0   \n",
       "1  10000002                30,000         4 years   Mortgage            NaN   \n",
       "2  10000003                24,725         7 years   Mortgage        75566.4   \n",
       "3  10000004                16,000        < 1 year        NaN        56160.0   \n",
       "4  10000005                17,000         8 years        Own        96000.0   \n",
       "\n",
       "            Income_Verified     Purpose_Of_Loan  Debt_To_Income  \\\n",
       "0              not verified                 car           18.37   \n",
       "1         VERIFIED - income  debt_consolidation           14.93   \n",
       "2  VERIFIED - income source  debt_consolidation           15.88   \n",
       "3  VERIFIED - income source  debt_consolidation           14.34   \n",
       "4  VERIFIED - income source  debt_consolidation           22.17   \n",
       "\n",
       "   Inquiries_Last_6Mo  Months_Since_Deliquency  Number_Open_Accounts  \\\n",
       "0                   0                      NaN                     9   \n",
       "1                   0                     17.0                    12   \n",
       "2                   0                      NaN                    12   \n",
       "3                   3                      NaN                    16   \n",
       "4                   1                      NaN                    19   \n",
       "\n",
       "   Total_Accounts  Gender  Interest_Rate  \n",
       "0              14  Female            1.0  \n",
       "1              24  Female            3.0  \n",
       "2              16    Male            3.0  \n",
       "3              22    Male            3.0  \n",
       "4              30  Female            1.0  "
      ]
     },
     "execution_count": 8,
     "metadata": {},
     "output_type": "execute_result"
    }
   ],
   "source": [
    "final.head()"
   ]
  },
  {
   "cell_type": "code",
   "execution_count": 22,
   "metadata": {},
   "outputs": [
    {
     "data": {
      "text/plain": [
       "count     273850\n",
       "unique      1320\n",
       "top       10,000\n",
       "freq       19442\n",
       "Name: Loan_Amount_Requested, dtype: object"
      ]
     },
     "execution_count": 22,
     "metadata": {},
     "output_type": "execute_result"
    }
   ],
   "source": [
    "final[\"Loan_Amount_Requested\"].describe()"
   ]
  },
  {
   "cell_type": "code",
   "execution_count": 9,
   "metadata": {},
   "outputs": [],
   "source": [
    "final[\"Loan_Amount_Requested\"]=final[\"Loan_Amount_Requested\"].str.replace(\",\",\"\")\n",
    "final[\"Loan_Amount_Requested\"]=pd.to_numeric(final[\"Loan_Amount_Requested\"])"
   ]
  },
  {
   "cell_type": "code",
   "execution_count": 10,
   "metadata": {},
   "outputs": [
    {
     "data": {
      "text/plain": [
       "count    273850.000000\n",
       "mean      14352.992240\n",
       "std        8289.036702\n",
       "min         500.000000\n",
       "25%        8000.000000\n",
       "50%       12000.000000\n",
       "75%       20000.000000\n",
       "max       35000.000000\n",
       "Name: Loan_Amount_Requested, dtype: float64"
      ]
     },
     "execution_count": 10,
     "metadata": {},
     "output_type": "execute_result"
    }
   ],
   "source": [
    "final[\"Loan_Amount_Requested\"].describe()"
   ]
  },
  {
   "cell_type": "code",
   "execution_count": 11,
   "metadata": {},
   "outputs": [],
   "source": [
    "final.Length_Employed.fillna(final.Length_Employed.mode()[0],inplace=True)"
   ]
  },
  {
   "cell_type": "code",
   "execution_count": 12,
   "metadata": {},
   "outputs": [
    {
     "data": {
      "text/plain": [
       "0"
      ]
     },
     "execution_count": 12,
     "metadata": {},
     "output_type": "execute_result"
    }
   ],
   "source": [
    "final.Length_Employed.isnull().sum()"
   ]
  },
  {
   "cell_type": "code",
   "execution_count": 13,
   "metadata": {},
   "outputs": [
    {
     "data": {
      "text/plain": [
       "10+ years    100635\n",
       "2 years       24420\n",
       "3 years       21478\n",
       "< 1 year      21133\n",
       "5 years       18042\n",
       "1 year        17336\n",
       "4 years       16393\n",
       "7 years       15444\n",
       "6 years       15351\n",
       "8 years       13115\n",
       "9 years       10503\n",
       "Name: Length_Employed, dtype: int64"
      ]
     },
     "execution_count": 13,
     "metadata": {},
     "output_type": "execute_result"
    }
   ],
   "source": [
    "final.Length_Employed.value_counts()"
   ]
  },
  {
   "cell_type": "code",
   "execution_count": 14,
   "metadata": {},
   "outputs": [],
   "source": [
    "final.Length_Employed=final.Length_Employed.str.replace('+','')\n",
    "final.Length_Employed=final.Length_Employed.str.replace('<','0')\n",
    "final.Length_Employed=final.Length_Employed.str.replace(' ','')\n",
    "final.Length_Employed=final.Length_Employed.str.replace('year','')\n",
    "final.Length_Employed=final.Length_Employed.str.replace('s','')\n",
    "final.Length_Employed=final.Length_Employed.str.replace('01','0')"
   ]
  },
  {
   "cell_type": "code",
   "execution_count": 15,
   "metadata": {},
   "outputs": [],
   "source": [
    "final.Length_Employed=pd.to_numeric(final.Length_Employed)"
   ]
  },
  {
   "cell_type": "code",
   "execution_count": 16,
   "metadata": {},
   "outputs": [
    {
     "data": {
      "text/plain": [
       "count    273850.000000\n",
       "mean          6.180037\n",
       "std           3.638570\n",
       "min           0.000000\n",
       "25%           3.000000\n",
       "50%           7.000000\n",
       "75%          10.000000\n",
       "max          10.000000\n",
       "Name: Length_Employed, dtype: float64"
      ]
     },
     "execution_count": 16,
     "metadata": {},
     "output_type": "execute_result"
    }
   ],
   "source": [
    "final.Length_Employed.describe()"
   ]
  },
  {
   "cell_type": "code",
   "execution_count": 17,
   "metadata": {},
   "outputs": [],
   "source": [
    "final.Home_Owner.fillna(final.Home_Owner.mode()[0],inplace=True)"
   ]
  },
  {
   "cell_type": "code",
   "execution_count": 93,
   "metadata": {},
   "outputs": [
    {
     "data": {
      "text/plain": [
       "<seaborn.axisgrid.FacetGrid at 0x239e3ef8548>"
      ]
     },
     "execution_count": 93,
     "metadata": {},
     "output_type": "execute_result"
    },
    {
     "data": {
      "image/png": "[encoded data removed]",
      "text/plain": [
       "<Figure size 360x360 with 1 Axes>"
      ]
     },
     "metadata": {
      "needs_background": "light"
     },
     "output_type": "display_data"
    }
   ],
   "source": [
    "sns.catplot(\"Home_Owner\",\"Interest_Rate\",data=train)"
   ]
  },
  {
   "cell_type": "code",
   "execution_count": 18,
   "metadata": {},
   "outputs": [
    {
     "data": {
      "text/plain": [
       "count    2.318500e+05\n",
       "mean     7.339279e+04\n",
       "std      5.852984e+04\n",
       "min      3.000000e+03\n",
       "25%      4.500000e+04\n",
       "50%      6.300000e+04\n",
       "75%      8.900000e+04\n",
       "max      7.500000e+06\n",
       "Name: Annual_Income, dtype: float64"
      ]
     },
     "execution_count": 18,
     "metadata": {},
     "output_type": "execute_result"
    }
   ],
   "source": [
    "final[\"Annual_Income\"].describe()"
   ]
  },
  {
   "cell_type": "code",
   "execution_count": 19,
   "metadata": {},
   "outputs": [],
   "source": [
    "final[\"Annual_Income\"].fillna(final[\"Annual_Income\"].mode()[0],inplace=True)"
   ]
  },
  {
   "cell_type": "code",
   "execution_count": 101,
   "metadata": {},
   "outputs": [
    {
     "data": {
      "text/plain": [
       "VERIFIED - income           99076\n",
       "VERIFIED - income source    88253\n",
       "not verified                86521\n",
       "Name: Income_Verified, dtype: int64"
      ]
     },
     "execution_count": 101,
     "metadata": {},
     "output_type": "execute_result"
    }
   ],
   "source": [
    "final.Income_Verified.value_counts()"
   ]
  },
  {
   "cell_type": "code",
   "execution_count": 20,
   "metadata": {},
   "outputs": [],
   "source": [
    "for item in final.columns:\n",
    "    if item!='Interest_Rate':\n",
    "        final[item].fillna(final[item].mode()[0],inplace=True)"
   ]
  },
  {
   "cell_type": "code",
   "execution_count": 21,
   "metadata": {},
   "outputs": [
    {
     "data": {
      "text/plain": [
       "Loan_ID                         0\n",
       "Loan_Amount_Requested           0\n",
       "Length_Employed                 0\n",
       "Home_Owner                      0\n",
       "Annual_Income                   0\n",
       "Income_Verified                 0\n",
       "Purpose_Of_Loan                 0\n",
       "Debt_To_Income                  0\n",
       "Inquiries_Last_6Mo              0\n",
       "Months_Since_Deliquency         0\n",
       "Number_Open_Accounts            0\n",
       "Total_Accounts                  0\n",
       "Gender                          0\n",
       "Interest_Rate              109541\n",
       "dtype: int64"
      ]
     },
     "execution_count": 21,
     "metadata": {},
     "output_type": "execute_result"
    }
   ],
   "source": [
    "final.isna().sum()"
   ]
  },
  {
   "cell_type": "code",
   "execution_count": 22,
   "metadata": {},
   "outputs": [],
   "source": [
    "train_s=final[final.Interest_Rate.isna()==False]\n",
    "test_s=[final.Interest_Rate.isna()==True]"
   ]
  },
  {
   "cell_type": "code",
   "execution_count": 23,
   "metadata": {},
   "outputs": [
    {
     "data": {
      "text/plain": [
       "(164309, 14)"
      ]
     },
     "execution_count": 23,
     "metadata": {},
     "output_type": "execute_result"
    }
   ],
   "source": [
    "train_s.shape"
   ]
  },
  {
   "cell_type": "code",
   "execution_count": 24,
   "metadata": {},
   "outputs": [
    {
     "data": {
      "text/plain": [
       "Loan_ID                      int64\n",
       "Loan_Amount_Requested        int64\n",
       "Length_Employed              int64\n",
       "Home_Owner                  object\n",
       "Annual_Income              float64\n",
       "Income_Verified             object\n",
       "Purpose_Of_Loan             object\n",
       "Debt_To_Income             float64\n",
       "Inquiries_Last_6Mo           int64\n",
       "Months_Since_Deliquency    float64\n",
       "Number_Open_Accounts         int64\n",
       "Total_Accounts               int64\n",
       "Gender                      object\n",
       "Interest_Rate              float64\n",
       "dtype: object"
      ]
     },
     "execution_count": 24,
     "metadata": {},
     "output_type": "execute_result"
    }
   ],
   "source": [
    "train_s.dtypes"
   ]
  },
  {
   "cell_type": "code",
   "execution_count": 25,
   "metadata": {},
   "outputs": [],
   "source": [
    "from sklearn.compose import ColumnTransformer\n",
    "from sklearn.preprocessing import OneHotEncoder\n",
    "from sklearn.ensemble import RandomForestRegressor"
   ]
  },
  {
   "cell_type": "code",
   "execution_count": 28,
   "metadata": {},
   "outputs": [
    {
     "name": "stderr",
     "output_type": "stream",
     "text": [
      "C:\\Users\\mishr\\anaconda3\\lib\\site-packages\\ipykernel_launcher.py:1: SettingWithCopyWarning: \n",
      "A value is trying to be set on a copy of a slice from a DataFrame.\n",
      "Try using .loc[row_indexer,col_indexer] = value instead\n",
      "\n",
      "See the caveats in the documentation: https://pandas.pydata.org/pandas-docs/stable/user_guide/indexing.html#returning-a-view-versus-a-copy\n",
      "  \"\"\"Entry point for launching an IPython kernel.\n"
     ]
    }
   ],
   "source": [
    "train_s[\"Interest_Rate\"]=train_s[\"Interest_Rate\"].astype(int)"
   ]
  },
  {
   "cell_type": "code",
   "execution_count": 29,
   "metadata": {},
   "outputs": [],
   "source": [
    "Y=train_s[\"Interest_Rate\"]\n",
    "X=train_s.drop(columns=[\"Interest_Rate\"])"
   ]
  },
  {
   "cell_type": "code",
   "execution_count": 30,
   "metadata": {},
   "outputs": [
    {
     "data": {
      "text/plain": [
       "0         1\n",
       "1         3\n",
       "2         3\n",
       "3         3\n",
       "4         1\n",
       "         ..\n",
       "164304    2\n",
       "164305    2\n",
       "164306    1\n",
       "164307    3\n",
       "164308    2\n",
       "Name: Interest_Rate, Length: 164309, dtype: int32"
      ]
     },
     "execution_count": 30,
     "metadata": {},
     "output_type": "execute_result"
    }
   ],
   "source": [
    "Y"
   ]
  },
  {
   "cell_type": "code",
   "execution_count": 33,
   "metadata": {},
   "outputs": [],
   "source": [
    "from sklearn.model_selection import train_test_split"
   ]
  },
  {
   "cell_type": "code",
   "execution_count": 34,
   "metadata": {},
   "outputs": [],
   "source": [
    "X_train,X_test,y_train,y_test=train_test_split(transformed_X,Y,test_size=0.2)"
   ]
  },
  {
   "cell_type": "code",
   "execution_count": 31,
   "metadata": {},
   "outputs": [],
   "source": [
    "col=[\"Home_Owner\",\"Income_Verified\",\"Income_Verified\",\"Purpose_Of_Loan\",\"Gender\"]\n",
    "one=OneHotEncoder()\n",
    "cot=ColumnTransformer([(\"one\",one,col)],remainder=\"passthrough\")\n",
    "transformed_X=cot.fit_transform(X)"
   ]
  },
  {
   "cell_type": "code",
   "execution_count": 123,
   "metadata": {},
   "outputs": [
    {
     "ename": "ModuleNotFoundError",
     "evalue": "No module named 'xgboost'",
     "output_type": "error",
     "traceback": [
      "\u001b[1;31m---------------------------------------------------------------------------\u001b[0m",
      "\u001b[1;31mModuleNotFoundError\u001b[0m                       Traceback (most recent call last)",
      "\u001b[1;32m<ipython-input-123-5943d1bfe3f1>\u001b[0m in \u001b[0;36m<module>\u001b[1;34m\u001b[0m\n\u001b[1;32m----> 1\u001b[1;33m \u001b[1;32mimport\u001b[0m \u001b[0mxgboost\u001b[0m \u001b[1;32mas\u001b[0m \u001b[0mxgb\u001b[0m\u001b[1;33m\u001b[0m\u001b[1;33m\u001b[0m\u001b[0m\n\u001b[0m",
      "\u001b[1;31mModuleNotFoundError\u001b[0m: No module named 'xgboost'"
     ]
    }
   ],
   "source": [
    "import xgboost as xgb"
   ]
  },
  {
   "cell_type": "code",
   "execution_count": 124,
   "metadata": {},
   "outputs": [
    {
     "ename": "SyntaxError",
     "evalue": "invalid syntax (<ipython-input-124-926221d7a18f>, line 1)",
     "output_type": "error",
     "traceback": [
      "\u001b[1;36m  File \u001b[1;32m\"<ipython-input-124-926221d7a18f>\"\u001b[1;36m, line \u001b[1;32m1\u001b[0m\n\u001b[1;33m    anaconda search -t conda xgboost\u001b[0m\n\u001b[1;37m                  ^\u001b[0m\n\u001b[1;31mSyntaxError\u001b[0m\u001b[1;31m:\u001b[0m invalid syntax\n"
     ]
    }
   ],
   "source": [
    "anaconda search -t conda xgboost"
   ]
  },
  {
   "cell_type": "code",
   "execution_count": 125,
   "metadata": {},
   "outputs": [
    {
     "name": "stdout",
     "output_type": "stream",
     "text": [
      "Collecting package metadata (current_repodata.json): ...working... done\n",
      "Solving environment: ...working... done\n",
      "\n",
      "## Package Plan ##\n",
      "\n",
      "  environment location: C:\\Users\\mishr\\anaconda3\n",
      "\n",
      "  added / updated specs:\n",
      "    - py-xgboost\n",
      "\n",
      "\n",
      "The following packages will be downloaded:\n",
      "\n",
      "    package                    |            build\n",
      "    ---------------------------|-----------------\n",
      "    _py-xgboost-mutex-2.0      |            cpu_0          12 KB  anaconda\n",
      "    ca-certificates-2020.1.1   |                0         165 KB  anaconda\n",
      "    certifi-2019.11.28         |           py37_0         157 KB  anaconda\n",
      "    conda-4.8.3                |           py37_0         3.0 MB  anaconda\n",
      "    libxgboost-0.90            |                1         3.9 MB  anaconda\n",
      "    openssl-1.1.1d             |       he774522_4         5.7 MB  anaconda\n",
      "    py-xgboost-0.90            |           py37_1          80 KB  anaconda\n",
      "    ------------------------------------------------------------\n",
      "                                           Total:        13.0 MB\n",
      "\n",
      "The following NEW packages will be INSTALLED:\n",
      "\n",
      "  _py-xgboost-mutex  anaconda/win-64::_py-xgboost-mutex-2.0-cpu_0\n",
      "  libxgboost         anaconda/win-64::libxgboost-0.90-1\n",
      "  py-xgboost         anaconda/win-64::py-xgboost-0.90-py37_1\n",
      "\n",
      "The following packages will be UPDATED:\n",
      "\n",
      "  conda                       pkgs/main::conda-4.8.2-py37_0 --> anaconda::conda-4.8.3-py37_0\n",
      "\n",
      "The following packages will be SUPERSEDED by a higher-priority channel:\n",
      "\n",
      "  ca-certificates                                 pkgs/main --> anaconda\n",
      "  certifi                                         pkgs/main --> anaconda\n",
      "  openssl                                         pkgs/main --> anaconda\n",
      "\n",
      "\n",
      "\n",
      "Downloading and Extracting Packages\n",
      "\n",
      "openssl-1.1.1d       | 5.7 MB    |            |   0% \n",
      "openssl-1.1.1d       | 5.7 MB    |            |   0% \n",
      "openssl-1.1.1d       | 5.7 MB    | 3          |   3% \n",
      "openssl-1.1.1d       | 5.7 MB    | 4          |   4% \n",
      "openssl-1.1.1d       | 5.7 MB    | 6          |   7% \n",
      "openssl-1.1.1d       | 5.7 MB    | 8          |   9% \n",
      "openssl-1.1.1d       | 5.7 MB    | #1         |  11% \n",
      "openssl-1.1.1d       | 5.7 MB    | #3         |  13% \n",
      "openssl-1.1.1d       | 5.7 MB    | #5         |  15% \n",
      "openssl-1.1.1d       | 5.7 MB    | #7         |  17% \n",
      "openssl-1.1.1d       | 5.7 MB    | #8         |  19% \n",
      "openssl-1.1.1d       | 5.7 MB    | ##         |  21% \n",
      "openssl-1.1.1d       | 5.7 MB    | ##2        |  22% \n",
      "openssl-1.1.1d       | 5.7 MB    | ##3        |  24% \n",
      "openssl-1.1.1d       | 5.7 MB    | ##5        |  25% \n",
      "openssl-1.1.1d       | 5.7 MB    | ##6        |  26% \n",
      "openssl-1.1.1d       | 5.7 MB    | ##7        |  28% \n",
      "openssl-1.1.1d       | 5.7 MB    | ##9        |  30% \n",
      "openssl-1.1.1d       | 5.7 MB    | ###1       |  32% \n",
      "openssl-1.1.1d       | 5.7 MB    | ###3       |  34% \n",
      "openssl-1.1.1d       | 5.7 MB    | ###5       |  35% \n",
      "openssl-1.1.1d       | 5.7 MB    | ###7       |  38% \n",
      "openssl-1.1.1d       | 5.7 MB    | ###9       |  40% \n",
      "openssl-1.1.1d       | 5.7 MB    | ####1      |  42% \n",
      "openssl-1.1.1d       | 5.7 MB    | ####3      |  44% \n",
      "openssl-1.1.1d       | 5.7 MB    | ####5      |  46% \n",
      "openssl-1.1.1d       | 5.7 MB    | ####8      |  48% \n",
      "openssl-1.1.1d       | 5.7 MB    | #####      |  51% \n",
      "openssl-1.1.1d       | 5.7 MB    | #####3     |  53% \n",
      "openssl-1.1.1d       | 5.7 MB    | #####5     |  56% \n",
      "openssl-1.1.1d       | 5.7 MB    | #####8     |  58% \n",
      "openssl-1.1.1d       | 5.7 MB    | ######1    |  61% \n",
      "openssl-1.1.1d       | 5.7 MB    | ######3    |  64% \n",
      "openssl-1.1.1d       | 5.7 MB    | ######5    |  66% \n",
      "openssl-1.1.1d       | 5.7 MB    | ######7    |  67% \n",
      "openssl-1.1.1d       | 5.7 MB    | ######8    |  69% \n",
      "openssl-1.1.1d       | 5.7 MB    | #######    |  70% \n",
      "openssl-1.1.1d       | 5.7 MB    | #######1   |  71% \n",
      "openssl-1.1.1d       | 5.7 MB    | #######2   |  72% \n",
      "openssl-1.1.1d       | 5.7 MB    | #######4   |  74% \n",
      "openssl-1.1.1d       | 5.7 MB    | #######7   |  77% \n",
      "openssl-1.1.1d       | 5.7 MB    | ########   |  80% \n",
      "openssl-1.1.1d       | 5.7 MB    | ########2  |  83% \n",
      "openssl-1.1.1d       | 5.7 MB    | ########4  |  85% \n",
      "openssl-1.1.1d       | 5.7 MB    | ########7  |  88% \n",
      "openssl-1.1.1d       | 5.7 MB    | ########9  |  90% \n",
      "openssl-1.1.1d       | 5.7 MB    | #########1 |  92% \n",
      "openssl-1.1.1d       | 5.7 MB    | #########3 |  93% \n",
      "openssl-1.1.1d       | 5.7 MB    | #########4 |  95% \n",
      "openssl-1.1.1d       | 5.7 MB    | #########6 |  96% \n",
      "openssl-1.1.1d       | 5.7 MB    | #########7 |  98% \n",
      "openssl-1.1.1d       | 5.7 MB    | #########9 |  99% \n",
      "openssl-1.1.1d       | 5.7 MB    | ########## | 100% \n",
      "\n",
      "_py-xgboost-mutex-2. | 12 KB     |            |   0% \n",
      "_py-xgboost-mutex-2. | 12 KB     | ########## | 100% \n",
      "\n",
      "ca-certificates-2020 | 165 KB    |            |   0% \n",
      "ca-certificates-2020 | 165 KB    | #9         |  19% \n",
      "ca-certificates-2020 | 165 KB    | ########## | 100% \n",
      "\n",
      "libxgboost-0.90      | 3.9 MB    |            |   0% \n",
      "libxgboost-0.90      | 3.9 MB    |            |   0% \n",
      "libxgboost-0.90      | 3.9 MB    | 2          |   2% \n",
      "libxgboost-0.90      | 3.9 MB    | 5          |   6% \n",
      "libxgboost-0.90      | 3.9 MB    | #          |  11% \n",
      "libxgboost-0.90      | 3.9 MB    | #4         |  15% \n",
      "libxgboost-0.90      | 3.9 MB    | #9         |  19% \n",
      "libxgboost-0.90      | 3.9 MB    | ##3        |  24% \n",
      "libxgboost-0.90      | 3.9 MB    | ##7        |  28% \n",
      "libxgboost-0.90      | 3.9 MB    | ###1       |  32% \n",
      "libxgboost-0.90      | 3.9 MB    | ###4       |  35% \n",
      "libxgboost-0.90      | 3.9 MB    | ###9       |  39% \n",
      "libxgboost-0.90      | 3.9 MB    | ####3      |  44% \n",
      "libxgboost-0.90      | 3.9 MB    | ####7      |  48% \n",
      "libxgboost-0.90      | 3.9 MB    | #####2     |  53% \n",
      "libxgboost-0.90      | 3.9 MB    | #####7     |  57% \n",
      "libxgboost-0.90      | 3.9 MB    | ######1    |  61% \n",
      "libxgboost-0.90      | 3.9 MB    | ######5    |  65% \n",
      "libxgboost-0.90      | 3.9 MB    | ######8    |  69% \n",
      "libxgboost-0.90      | 3.9 MB    | #######2   |  72% \n",
      "libxgboost-0.90      | 3.9 MB    | #######5   |  75% \n",
      "libxgboost-0.90      | 3.9 MB    | #######8   |  78% \n",
      "libxgboost-0.90      | 3.9 MB    | ########1  |  81% \n",
      "libxgboost-0.90      | 3.9 MB    | ########5  |  85% \n",
      "libxgboost-0.90      | 3.9 MB    | ########8  |  88% \n",
      "libxgboost-0.90      | 3.9 MB    | #########1 |  91% \n",
      "libxgboost-0.90      | 3.9 MB    | #########5 |  96% \n",
      "libxgboost-0.90      | 3.9 MB    | ########## | 100% \n",
      "\n",
      "certifi-2019.11.28   | 157 KB    |            |   0% \n",
      "certifi-2019.11.28   | 157 KB    | #          |  10% \n",
      "certifi-2019.11.28   | 157 KB    | #########1 |  92% \n",
      "certifi-2019.11.28   | 157 KB    | ########## | 100% \n",
      "\n",
      "py-xgboost-0.90      | 80 KB     |            |   0% \n",
      "py-xgboost-0.90      | 80 KB     | #9         |  20% \n",
      "py-xgboost-0.90      | 80 KB     | ########## | 100% \n",
      "\n",
      "conda-4.8.3          | 3.0 MB    |            |   0% \n",
      "conda-4.8.3          | 3.0 MB    |            |   1% \n",
      "conda-4.8.3          | 3.0 MB    | 4          |   4% \n",
      "conda-4.8.3          | 3.0 MB    | 8          |   9% \n",
      "conda-4.8.3          | 3.0 MB    | #3         |  14% \n",
      "conda-4.8.3          | 3.0 MB    | #7         |  17% \n",
      "conda-4.8.3          | 3.0 MB    | ##1        |  21% \n",
      "conda-4.8.3          | 3.0 MB    | ##4        |  24% \n",
      "conda-4.8.3          | 3.0 MB    | ##8        |  28% \n",
      "conda-4.8.3          | 3.0 MB    | ###1       |  31% \n",
      "conda-4.8.3          | 3.0 MB    | ###4       |  35% \n",
      "conda-4.8.3          | 3.0 MB    | ###9       |  39% \n",
      "conda-4.8.3          | 3.0 MB    | ####3      |  44% \n",
      "conda-4.8.3          | 3.0 MB    | ####8      |  49% \n",
      "conda-4.8.3          | 3.0 MB    | #####4     |  54% \n",
      "conda-4.8.3          | 3.0 MB    | #####8     |  58% \n",
      "conda-4.8.3          | 3.0 MB    | ######2    |  62% \n",
      "conda-4.8.3          | 3.0 MB    | ######5    |  66% \n",
      "conda-4.8.3          | 3.0 MB    | ######9    |  70% \n",
      "conda-4.8.3          | 3.0 MB    | #######3   |  74% \n",
      "conda-4.8.3          | 3.0 MB    | #######8   |  78% \n",
      "conda-4.8.3          | 3.0 MB    | ########2  |  83% \n",
      "conda-4.8.3          | 3.0 MB    | ########6  |  87% \n",
      "conda-4.8.3          | 3.0 MB    | #########1 |  92% \n",
      "conda-4.8.3          | 3.0 MB    | #########5 |  96% \n",
      "conda-4.8.3          | 3.0 MB    | #########9 |  99% \n",
      "conda-4.8.3          | 3.0 MB    | ########## | 100% \n",
      "Preparing transaction: ...working... done\n",
      "Verifying transaction: ...working... done\n",
      "Executing transaction: ...working... done\n",
      "\n",
      "Note: you may need to restart the kernel to use updated packages.\n"
     ]
    },
    {
     "name": "stderr",
     "output_type": "stream",
     "text": [
      "\n",
      "\n",
      "==> WARNING: A newer version of conda exists. <==\n",
      "  current version: 4.8.2\n",
      "  latest version: 4.8.3\n",
      "\n",
      "Please update conda by running\n",
      "\n",
      "    $ conda update -n base -c defaults conda\n",
      "\n",
      "\n"
     ]
    }
   ],
   "source": [
    "conda install -c anaconda py-xgboost"
   ]
  },
  {
   "cell_type": "code",
   "execution_count": 126,
   "metadata": {},
   "outputs": [
    {
     "name": "stdout",
     "output_type": "stream",
     "text": [
      "Collecting package metadata (current_repodata.json): ...working... done\n",
      "Solving environment: ...working... done\n",
      "\n",
      "## Package Plan ##\n",
      "\n",
      "  environment location: C:\\Users\\mishr\\anaconda3\n",
      "\n",
      "  added / updated specs:\n",
      "    - conda\n",
      "\n",
      "\n",
      "The following packages will be downloaded:\n",
      "\n",
      "    package                    |            build\n",
      "    ---------------------------|-----------------\n",
      "    _py-xgboost-mutex-2.0      |            cpu_0          12 KB\n",
      "    ca-certificates-2020.1.1   |                0         125 KB\n",
      "    certifi-2019.11.28         |           py37_0         154 KB\n",
      "    conda-4.8.3                |           py37_0         2.8 MB\n",
      "    conda-package-handling-1.6.1|   py37h62dcd97_0         612 KB\n",
      "    libxgboost-0.90            |                1         1.8 MB\n",
      "    openssl-1.1.1d             |       he774522_4         4.8 MB\n",
      "    ------------------------------------------------------------\n",
      "                                           Total:        10.3 MB\n",
      "\n",
      "The following packages will be UPDATED:\n",
      "\n",
      "  conda-package-han~                   1.6.0-py37h62dcd97_0 --> 1.6.1-py37h62dcd97_0\n",
      "\n",
      "The following packages will be SUPERSEDED by a higher-priority channel:\n",
      "\n",
      "  _py-xgboost-mutex                                anaconda --> pkgs/main\n",
      "  ca-certificates                                  anaconda --> pkgs/main\n",
      "  certifi                                          anaconda --> pkgs/main\n",
      "  conda                                            anaconda --> pkgs/main\n",
      "  libxgboost                                       anaconda --> pkgs/main\n",
      "  openssl                                          anaconda --> pkgs/main\n",
      "\n",
      "\n",
      "\n",
      "Downloading and Extracting Packages\n",
      "\n",
      "_py-xgboost-mutex-2. | 12 KB     |            |   0% \n",
      "_py-xgboost-mutex-2. | 12 KB     | ########## | 100% \n",
      "\n",
      "openssl-1.1.1d       | 4.8 MB    |            |   0% \n",
      "openssl-1.1.1d       | 4.8 MB    |            |   0% \n",
      "openssl-1.1.1d       | 4.8 MB    | 1          |   2% \n",
      "openssl-1.1.1d       | 4.8 MB    | 3          |   4% \n",
      "openssl-1.1.1d       | 4.8 MB    | 4          |   5% \n",
      "openssl-1.1.1d       | 4.8 MB    | 6          |   6% \n",
      "openssl-1.1.1d       | 4.8 MB    | 7          |   7% \n",
      "openssl-1.1.1d       | 4.8 MB    | 9          |   9% \n",
      "openssl-1.1.1d       | 4.8 MB    | #          |  10% \n",
      "openssl-1.1.1d       | 4.8 MB    | #1         |  12% \n",
      "openssl-1.1.1d       | 4.8 MB    | #3         |  13% \n",
      "openssl-1.1.1d       | 4.8 MB    | #4         |  15% \n",
      "openssl-1.1.1d       | 4.8 MB    | #6         |  17% \n",
      "openssl-1.1.1d       | 4.8 MB    | #8         |  18% \n",
      "openssl-1.1.1d       | 4.8 MB    | #9         |  20% \n",
      "openssl-1.1.1d       | 4.8 MB    | ##1        |  21% \n",
      "openssl-1.1.1d       | 4.8 MB    | ##2        |  23% \n",
      "openssl-1.1.1d       | 4.8 MB    | ##4        |  24% \n",
      "openssl-1.1.1d       | 4.8 MB    | ##5        |  25% \n",
      "openssl-1.1.1d       | 4.8 MB    | ##7        |  27% \n",
      "openssl-1.1.1d       | 4.8 MB    | ##8        |  28% \n",
      "openssl-1.1.1d       | 4.8 MB    | ##9        |  30% \n",
      "openssl-1.1.1d       | 4.8 MB    | ###1       |  31% \n",
      "openssl-1.1.1d       | 4.8 MB    | ###2       |  33% \n",
      "openssl-1.1.1d       | 4.8 MB    | ###4       |  34% \n",
      "openssl-1.1.1d       | 4.8 MB    | ###6       |  36% \n",
      "openssl-1.1.1d       | 4.8 MB    | ###8       |  38% \n",
      "openssl-1.1.1d       | 4.8 MB    | ###9       |  40% \n",
      "openssl-1.1.1d       | 4.8 MB    | ####2      |  42% \n",
      "openssl-1.1.1d       | 4.8 MB    | ####3      |  44% \n",
      "openssl-1.1.1d       | 4.8 MB    | ####5      |  46% \n",
      "openssl-1.1.1d       | 4.8 MB    | ####7      |  47% \n",
      "openssl-1.1.1d       | 4.8 MB    | ####9      |  49% \n",
      "openssl-1.1.1d       | 4.8 MB    | #####      |  51% \n",
      "openssl-1.1.1d       | 4.8 MB    | #####2     |  53% \n",
      "openssl-1.1.1d       | 4.8 MB    | #####5     |  55% \n",
      "openssl-1.1.1d       | 4.8 MB    | #####7     |  57% \n",
      "openssl-1.1.1d       | 4.8 MB    | #####9     |  60% \n",
      "openssl-1.1.1d       | 4.8 MB    | ######1    |  62% \n",
      "openssl-1.1.1d       | 4.8 MB    | ######3    |  64% \n",
      "openssl-1.1.1d       | 4.8 MB    | ######5    |  65% \n",
      "openssl-1.1.1d       | 4.8 MB    | ######6    |  67% \n",
      "openssl-1.1.1d       | 4.8 MB    | ######8    |  68% \n",
      "openssl-1.1.1d       | 4.8 MB    | ######9    |  70% \n",
      "openssl-1.1.1d       | 4.8 MB    | #######    |  71% \n",
      "openssl-1.1.1d       | 4.8 MB    | #######2   |  72% \n",
      "openssl-1.1.1d       | 4.8 MB    | #######3   |  74% \n",
      "openssl-1.1.1d       | 4.8 MB    | #######5   |  75% \n",
      "openssl-1.1.1d       | 4.8 MB    | #######6   |  77% \n",
      "openssl-1.1.1d       | 4.8 MB    | #######8   |  78% \n",
      "openssl-1.1.1d       | 4.8 MB    | #######9   |  80% \n",
      "openssl-1.1.1d       | 4.8 MB    | ########1  |  81% \n",
      "openssl-1.1.1d       | 4.8 MB    | ########2  |  83% \n",
      "openssl-1.1.1d       | 4.8 MB    | ########4  |  84% \n",
      "openssl-1.1.1d       | 4.8 MB    | ########5  |  86% \n",
      "openssl-1.1.1d       | 4.8 MB    | ########6  |  87% \n",
      "openssl-1.1.1d       | 4.8 MB    | ########8  |  88% \n",
      "openssl-1.1.1d       | 4.8 MB    | ########9  |  89% \n",
      "openssl-1.1.1d       | 4.8 MB    | #########  |  91% \n",
      "openssl-1.1.1d       | 4.8 MB    | #########2 |  92% \n",
      "openssl-1.1.1d       | 4.8 MB    | #########3 |  93% \n",
      "openssl-1.1.1d       | 4.8 MB    | #########4 |  95% \n",
      "openssl-1.1.1d       | 4.8 MB    | #########5 |  96% \n",
      "openssl-1.1.1d       | 4.8 MB    | #########8 |  98% \n",
      "openssl-1.1.1d       | 4.8 MB    | #########9 | 100% \n",
      "openssl-1.1.1d       | 4.8 MB    | ########## | 100% \n",
      "\n",
      "conda-package-handli | 612 KB    |            |   0% \n",
      "conda-package-handli | 612 KB    | 2          |   3% \n",
      "conda-package-handli | 612 KB    | #          |  10% \n",
      "conda-package-handli | 612 KB    | #8         |  18% \n",
      "conda-package-handli | 612 KB    | ###1       |  31% \n",
      "conda-package-handli | 612 KB    | ####7      |  47% \n",
      "conda-package-handli | 612 KB    | #####7     |  58% \n",
      "conda-package-handli | 612 KB    | ######7    |  68% \n",
      "conda-package-handli | 612 KB    | #######8   |  78% \n",
      "conda-package-handli | 612 KB    | ########6  |  86% \n",
      "conda-package-handli | 612 KB    | #########4 |  94% \n",
      "conda-package-handli | 612 KB    | ########## | 100% \n",
      "\n",
      "conda-4.8.3          | 2.8 MB    |            |   0% \n",
      "conda-4.8.3          | 2.8 MB    |            |   1% \n",
      "conda-4.8.3          | 2.8 MB    | 3          |   3% \n",
      "conda-4.8.3          | 2.8 MB    | 5          |   5% \n",
      "conda-4.8.3          | 2.8 MB    | 7          |   7% \n",
      "conda-4.8.3          | 2.8 MB    | 8          |   9% \n",
      "conda-4.8.3          | 2.8 MB    | #          |  10% \n",
      "conda-4.8.3          | 2.8 MB    | #2         |  12% \n",
      "conda-4.8.3          | 2.8 MB    | #4         |  15% \n",
      "conda-4.8.3          | 2.8 MB    | #8         |  18% \n",
      "conda-4.8.3          | 2.8 MB    | ##         |  20% \n",
      "conda-4.8.3          | 2.8 MB    | ##2        |  23% \n",
      "conda-4.8.3          | 2.8 MB    | ##4        |  25% \n",
      "conda-4.8.3          | 2.8 MB    | ##6        |  27% \n",
      "conda-4.8.3          | 2.8 MB    | ##8        |  29% \n",
      "conda-4.8.3          | 2.8 MB    | ###        |  30% \n",
      "conda-4.8.3          | 2.8 MB    | ###2       |  33% \n",
      "conda-4.8.3          | 2.8 MB    | ###7       |  37% \n",
      "conda-4.8.3          | 2.8 MB    | ####       |  40% \n",
      "conda-4.8.3          | 2.8 MB    | ####2      |  42% \n",
      "conda-4.8.3          | 2.8 MB    | ####7      |  47% \n",
      "conda-4.8.3          | 2.8 MB    | #####      |  50% \n",
      "conda-4.8.3          | 2.8 MB    | #####2     |  53% \n",
      "conda-4.8.3          | 2.8 MB    | #####6     |  56% \n",
      "conda-4.8.3          | 2.8 MB    | #####8     |  59% \n",
      "conda-4.8.3          | 2.8 MB    | ######1    |  62% \n",
      "conda-4.8.3          | 2.8 MB    | ######4    |  64% \n",
      "conda-4.8.3          | 2.8 MB    | ######8    |  68% \n",
      "conda-4.8.3          | 2.8 MB    | #######1   |  71% \n",
      "conda-4.8.3          | 2.8 MB    | #######5   |  75% \n",
      "conda-4.8.3          | 2.8 MB    | #######8   |  79% \n",
      "conda-4.8.3          | 2.8 MB    | ########3  |  83% \n",
      "conda-4.8.3          | 2.8 MB    | ########6  |  86% \n",
      "conda-4.8.3          | 2.8 MB    | ########9  |  90% \n",
      "conda-4.8.3          | 2.8 MB    | #########2 |  93% \n",
      "conda-4.8.3          | 2.8 MB    | #########8 |  99% \n",
      "conda-4.8.3          | 2.8 MB    | ########## | 100% \n",
      "\n",
      "certifi-2019.11.28   | 154 KB    |            |   0% \n",
      "certifi-2019.11.28   | 154 KB    | ##         |  21% \n",
      "certifi-2019.11.28   | 154 KB    | ########3  |  83% \n",
      "certifi-2019.11.28   | 154 KB    | ########## | 100% \n",
      "\n",
      "ca-certificates-2020 | 125 KB    |            |   0% \n",
      "ca-certificates-2020 | 125 KB    | #2         |  13% \n",
      "ca-certificates-2020 | 125 KB    | #####1     |  51% \n",
      "ca-certificates-2020 | 125 KB    | ########## | 100% \n",
      "\n",
      "libxgboost-0.90      | 1.8 MB    |            |   0% \n",
      "libxgboost-0.90      | 1.8 MB    |            |   1% \n",
      "libxgboost-0.90      | 1.8 MB    | 7          |   8% \n",
      "libxgboost-0.90      | 1.8 MB    | #2         |  12% \n",
      "libxgboost-0.90      | 1.8 MB    | #5         |  15% \n",
      "libxgboost-0.90      | 1.8 MB    | #9         |  20% \n",
      "libxgboost-0.90      | 1.8 MB    | ##3        |  23% \n",
      "libxgboost-0.90      | 1.8 MB    | ##7        |  27% \n",
      "libxgboost-0.90      | 1.8 MB    | ###        |  31% \n",
      "libxgboost-0.90      | 1.8 MB    | ###4       |  34% \n",
      "libxgboost-0.90      | 1.8 MB    | ###8       |  39% \n",
      "libxgboost-0.90      | 1.8 MB    | ####2      |  42% \n",
      "libxgboost-0.90      | 1.8 MB    | ####4      |  45% \n",
      "libxgboost-0.90      | 1.8 MB    | ####7      |  47% \n",
      "libxgboost-0.90      | 1.8 MB    | ####8      |  49% \n",
      "libxgboost-0.90      | 1.8 MB    | #####2     |  52% \n",
      "libxgboost-0.90      | 1.8 MB    | #####5     |  56% \n",
      "libxgboost-0.90      | 1.8 MB    | #####9     |  59% \n",
      "libxgboost-0.90      | 1.8 MB    | ######1    |  62% \n",
      "libxgboost-0.90      | 1.8 MB    | ######4    |  64% \n",
      "libxgboost-0.90      | 1.8 MB    | ######7    |  68% \n",
      "libxgboost-0.90      | 1.8 MB    | #######1   |  71% \n",
      "libxgboost-0.90      | 1.8 MB    | #######4   |  75% \n",
      "libxgboost-0.90      | 1.8 MB    | #######9   |  79% \n",
      "libxgboost-0.90      | 1.8 MB    | ########2  |  82% \n",
      "libxgboost-0.90      | 1.8 MB    | ########5  |  86% \n",
      "libxgboost-0.90      | 1.8 MB    | ########9  |  89% \n",
      "libxgboost-0.90      | 1.8 MB    | #########2 |  93% \n",
      "libxgboost-0.90      | 1.8 MB    | #########6 |  96% \n",
      "libxgboost-0.90      | 1.8 MB    | #########9 | 100% \n",
      "libxgboost-0.90      | 1.8 MB    | ########## | 100% \n",
      "\n",
      "Note: you may need to restart the kernel to use updated packages.\n"
     ]
    },
    {
     "name": "stderr",
     "output_type": "stream",
     "text": [
      "\n",
      "InvalidArchiveError('Error with archive C:\\\\Users\\\\mishr\\\\anaconda3\\\\pkgs\\\\openssl-1.1.1d-he774522_4t_htjms3\\\\pkg-openssl-1.1.1d-he774522_4.tar.zst.  You probably need to delete and re-download or re-create this file.  Message from libarchive was:\\n\\nCould not unlink')\n",
      "\n"
     ]
    }
   ],
   "source": [
    "conda update -n base -c defaults conda"
   ]
  },
  {
   "cell_type": "code",
   "execution_count": 35,
   "metadata": {},
   "outputs": [],
   "source": [
    "from xgboost import XGBClassifier"
   ]
  },
  {
   "cell_type": "code",
   "execution_count": 36,
   "metadata": {},
   "outputs": [
    {
     "data": {
      "text/plain": [
       "array([[ 0.,  0.,  0., ..., 33.,  6., 22.],\n",
       "       [ 1.,  0.,  0., ...,  9.,  4., 12.],\n",
       "       [ 1.,  0.,  0., ...,  9.,  5.,  7.],\n",
       "       ...,\n",
       "       [ 0.,  0.,  0., ..., 12., 14., 35.],\n",
       "       [ 0.,  0.,  0., ...,  9., 11., 25.],\n",
       "       [ 1.,  0.,  0., ...,  9.,  7., 19.]])"
      ]
     },
     "execution_count": 36,
     "metadata": {},
     "output_type": "execute_result"
    }
   ],
   "source": [
    "X_train"
   ]
  },
  {
   "cell_type": "code",
   "execution_count": 37,
   "metadata": {},
   "outputs": [
    {
     "data": {
      "text/plain": [
       "XGBClassifier(base_score=0.5, booster='gbtree', colsample_bylevel=1,\n",
       "              colsample_bynode=1, colsample_bytree=1, gamma=0,\n",
       "              learning_rate=0.1, max_delta_step=0, max_depth=3,\n",
       "              min_child_weight=1, missing=None, n_estimators=100, n_jobs=1,\n",
       "              nthread=None, objective='multi:softprob', random_state=0,\n",
       "              reg_alpha=0, reg_lambda=1, scale_pos_weight=1, seed=None,\n",
       "              silent=None, subsample=1, verbosity=1)"
      ]
     },
     "execution_count": 37,
     "metadata": {},
     "output_type": "execute_result"
    }
   ],
   "source": [
    "model=XGBClassifier()\n",
    "model.fit(X_train,y_train)"
   ]
  },
  {
   "cell_type": "markdown",
   "metadata": {},
   "source": [
    "preds=model.predict(X_test)"
   ]
  },
  {
   "cell_type": "code",
   "execution_count": 38,
   "metadata": {},
   "outputs": [],
   "source": [
    "preds=model.predict(X_test)"
   ]
  },
  {
   "cell_type": "code",
   "execution_count": 39,
   "metadata": {},
   "outputs": [
    {
     "data": {
      "text/plain": [
       "array([2, 3, 3, ..., 2, 2, 1])"
      ]
     },
     "execution_count": 39,
     "metadata": {},
     "output_type": "execute_result"
    }
   ],
   "source": [
    "preds"
   ]
  },
  {
   "cell_type": "code",
   "execution_count": 41,
   "metadata": {},
   "outputs": [
    {
     "ename": "KeyboardInterrupt",
     "evalue": "",
     "output_type": "error",
     "traceback": [
      "\u001b[1;31m---------------------------------------------------------------------------\u001b[0m",
      "\u001b[1;31mKeyboardInterrupt\u001b[0m                         Traceback (most recent call last)",
      "\u001b[1;32m<ipython-input-41-ec7c7cd84725>\u001b[0m in \u001b[0;36m<module>\u001b[1;34m\u001b[0m\n\u001b[0;32m      1\u001b[0m \u001b[0mmodel1\u001b[0m\u001b[1;33m=\u001b[0m\u001b[0mRandomForestRegressor\u001b[0m\u001b[1;33m(\u001b[0m\u001b[1;33m)\u001b[0m\u001b[1;33m\u001b[0m\u001b[1;33m\u001b[0m\u001b[0m\n\u001b[1;32m----> 2\u001b[1;33m \u001b[0mmodel1\u001b[0m\u001b[1;33m.\u001b[0m\u001b[0mfit\u001b[0m\u001b[1;33m(\u001b[0m\u001b[0mX_train\u001b[0m\u001b[1;33m,\u001b[0m\u001b[0my_train\u001b[0m\u001b[1;33m)\u001b[0m\u001b[1;33m\u001b[0m\u001b[1;33m\u001b[0m\u001b[0m\n\u001b[0m",
      "\u001b[1;32m~\\anaconda3\\lib\\site-packages\\sklearn\\ensemble\\_forest.py\u001b[0m in \u001b[0;36mfit\u001b[1;34m(self, X, y, sample_weight)\u001b[0m\n\u001b[0;32m    381\u001b[0m                     \u001b[0mverbose\u001b[0m\u001b[1;33m=\u001b[0m\u001b[0mself\u001b[0m\u001b[1;33m.\u001b[0m\u001b[0mverbose\u001b[0m\u001b[1;33m,\u001b[0m \u001b[0mclass_weight\u001b[0m\u001b[1;33m=\u001b[0m\u001b[0mself\u001b[0m\u001b[1;33m.\u001b[0m\u001b[0mclass_weight\u001b[0m\u001b[1;33m,\u001b[0m\u001b[1;33m\u001b[0m\u001b[1;33m\u001b[0m\u001b[0m\n\u001b[0;32m    382\u001b[0m                     n_samples_bootstrap=n_samples_bootstrap)\n\u001b[1;32m--> 383\u001b[1;33m                 for i, t in enumerate(trees))\n\u001b[0m\u001b[0;32m    384\u001b[0m \u001b[1;33m\u001b[0m\u001b[0m\n\u001b[0;32m    385\u001b[0m             \u001b[1;31m# Collect newly grown trees\u001b[0m\u001b[1;33m\u001b[0m\u001b[1;33m\u001b[0m\u001b[1;33m\u001b[0m\u001b[0m\n",
      "\u001b[1;32m~\\anaconda3\\lib\\site-packages\\joblib\\parallel.py\u001b[0m in \u001b[0;36m__call__\u001b[1;34m(self, iterable)\u001b[0m\n\u001b[0;32m   1005\u001b[0m                 \u001b[0mself\u001b[0m\u001b[1;33m.\u001b[0m\u001b[0m_iterating\u001b[0m \u001b[1;33m=\u001b[0m \u001b[0mself\u001b[0m\u001b[1;33m.\u001b[0m\u001b[0m_original_iterator\u001b[0m \u001b[1;32mis\u001b[0m \u001b[1;32mnot\u001b[0m \u001b[1;32mNone\u001b[0m\u001b[1;33m\u001b[0m\u001b[1;33m\u001b[0m\u001b[0m\n\u001b[0;32m   1006\u001b[0m \u001b[1;33m\u001b[0m\u001b[0m\n\u001b[1;32m-> 1007\u001b[1;33m             \u001b[1;32mwhile\u001b[0m \u001b[0mself\u001b[0m\u001b[1;33m.\u001b[0m\u001b[0mdispatch_one_batch\u001b[0m\u001b[1;33m(\u001b[0m\u001b[0miterator\u001b[0m\u001b[1;33m)\u001b[0m\u001b[1;33m:\u001b[0m\u001b[1;33m\u001b[0m\u001b[1;33m\u001b[0m\u001b[0m\n\u001b[0m\u001b[0;32m   1008\u001b[0m                 \u001b[1;32mpass\u001b[0m\u001b[1;33m\u001b[0m\u001b[1;33m\u001b[0m\u001b[0m\n\u001b[0;32m   1009\u001b[0m \u001b[1;33m\u001b[0m\u001b[0m\n",
      "\u001b[1;32m~\\anaconda3\\lib\\site-packages\\joblib\\parallel.py\u001b[0m in \u001b[0;36mdispatch_one_batch\u001b[1;34m(self, iterator)\u001b[0m\n\u001b[0;32m    833\u001b[0m                 \u001b[1;32mreturn\u001b[0m \u001b[1;32mFalse\u001b[0m\u001b[1;33m\u001b[0m\u001b[1;33m\u001b[0m\u001b[0m\n\u001b[0;32m    834\u001b[0m             \u001b[1;32melse\u001b[0m\u001b[1;33m:\u001b[0m\u001b[1;33m\u001b[0m\u001b[1;33m\u001b[0m\u001b[0m\n\u001b[1;32m--> 835\u001b[1;33m                 \u001b[0mself\u001b[0m\u001b[1;33m.\u001b[0m\u001b[0m_dispatch\u001b[0m\u001b[1;33m(\u001b[0m\u001b[0mtasks\u001b[0m\u001b[1;33m)\u001b[0m\u001b[1;33m\u001b[0m\u001b[1;33m\u001b[0m\u001b[0m\n\u001b[0m\u001b[0;32m    836\u001b[0m                 \u001b[1;32mreturn\u001b[0m \u001b[1;32mTrue\u001b[0m\u001b[1;33m\u001b[0m\u001b[1;33m\u001b[0m\u001b[0m\n\u001b[0;32m    837\u001b[0m \u001b[1;33m\u001b[0m\u001b[0m\n",
      "\u001b[1;32m~\\anaconda3\\lib\\site-packages\\joblib\\parallel.py\u001b[0m in \u001b[0;36m_dispatch\u001b[1;34m(self, batch)\u001b[0m\n\u001b[0;32m    752\u001b[0m         \u001b[1;32mwith\u001b[0m \u001b[0mself\u001b[0m\u001b[1;33m.\u001b[0m\u001b[0m_lock\u001b[0m\u001b[1;33m:\u001b[0m\u001b[1;33m\u001b[0m\u001b[1;33m\u001b[0m\u001b[0m\n\u001b[0;32m    753\u001b[0m             \u001b[0mjob_idx\u001b[0m \u001b[1;33m=\u001b[0m \u001b[0mlen\u001b[0m\u001b[1;33m(\u001b[0m\u001b[0mself\u001b[0m\u001b[1;33m.\u001b[0m\u001b[0m_jobs\u001b[0m\u001b[1;33m)\u001b[0m\u001b[1;33m\u001b[0m\u001b[1;33m\u001b[0m\u001b[0m\n\u001b[1;32m--> 754\u001b[1;33m             \u001b[0mjob\u001b[0m \u001b[1;33m=\u001b[0m \u001b[0mself\u001b[0m\u001b[1;33m.\u001b[0m\u001b[0m_backend\u001b[0m\u001b[1;33m.\u001b[0m\u001b[0mapply_async\u001b[0m\u001b[1;33m(\u001b[0m\u001b[0mbatch\u001b[0m\u001b[1;33m,\u001b[0m \u001b[0mcallback\u001b[0m\u001b[1;33m=\u001b[0m\u001b[0mcb\u001b[0m\u001b[1;33m)\u001b[0m\u001b[1;33m\u001b[0m\u001b[1;33m\u001b[0m\u001b[0m\n\u001b[0m\u001b[0;32m    755\u001b[0m             \u001b[1;31m# A job can complete so quickly than its callback is\u001b[0m\u001b[1;33m\u001b[0m\u001b[1;33m\u001b[0m\u001b[1;33m\u001b[0m\u001b[0m\n\u001b[0;32m    756\u001b[0m             \u001b[1;31m# called before we get here, causing self._jobs to\u001b[0m\u001b[1;33m\u001b[0m\u001b[1;33m\u001b[0m\u001b[1;33m\u001b[0m\u001b[0m\n",
      "\u001b[1;32m~\\anaconda3\\lib\\site-packages\\joblib\\_parallel_backends.py\u001b[0m in \u001b[0;36mapply_async\u001b[1;34m(self, func, callback)\u001b[0m\n\u001b[0;32m    207\u001b[0m     \u001b[1;32mdef\u001b[0m \u001b[0mapply_async\u001b[0m\u001b[1;33m(\u001b[0m\u001b[0mself\u001b[0m\u001b[1;33m,\u001b[0m \u001b[0mfunc\u001b[0m\u001b[1;33m,\u001b[0m \u001b[0mcallback\u001b[0m\u001b[1;33m=\u001b[0m\u001b[1;32mNone\u001b[0m\u001b[1;33m)\u001b[0m\u001b[1;33m:\u001b[0m\u001b[1;33m\u001b[0m\u001b[1;33m\u001b[0m\u001b[0m\n\u001b[0;32m    208\u001b[0m         \u001b[1;34m\"\"\"Schedule a func to be run\"\"\"\u001b[0m\u001b[1;33m\u001b[0m\u001b[1;33m\u001b[0m\u001b[0m\n\u001b[1;32m--> 209\u001b[1;33m         \u001b[0mresult\u001b[0m \u001b[1;33m=\u001b[0m \u001b[0mImmediateResult\u001b[0m\u001b[1;33m(\u001b[0m\u001b[0mfunc\u001b[0m\u001b[1;33m)\u001b[0m\u001b[1;33m\u001b[0m\u001b[1;33m\u001b[0m\u001b[0m\n\u001b[0m\u001b[0;32m    210\u001b[0m         \u001b[1;32mif\u001b[0m \u001b[0mcallback\u001b[0m\u001b[1;33m:\u001b[0m\u001b[1;33m\u001b[0m\u001b[1;33m\u001b[0m\u001b[0m\n\u001b[0;32m    211\u001b[0m             \u001b[0mcallback\u001b[0m\u001b[1;33m(\u001b[0m\u001b[0mresult\u001b[0m\u001b[1;33m)\u001b[0m\u001b[1;33m\u001b[0m\u001b[1;33m\u001b[0m\u001b[0m\n",
      "\u001b[1;32m~\\anaconda3\\lib\\site-packages\\joblib\\_parallel_backends.py\u001b[0m in \u001b[0;36m__init__\u001b[1;34m(self, batch)\u001b[0m\n\u001b[0;32m    588\u001b[0m         \u001b[1;31m# Don't delay the application, to avoid keeping the input\u001b[0m\u001b[1;33m\u001b[0m\u001b[1;33m\u001b[0m\u001b[1;33m\u001b[0m\u001b[0m\n\u001b[0;32m    589\u001b[0m         \u001b[1;31m# arguments in memory\u001b[0m\u001b[1;33m\u001b[0m\u001b[1;33m\u001b[0m\u001b[1;33m\u001b[0m\u001b[0m\n\u001b[1;32m--> 590\u001b[1;33m         \u001b[0mself\u001b[0m\u001b[1;33m.\u001b[0m\u001b[0mresults\u001b[0m \u001b[1;33m=\u001b[0m \u001b[0mbatch\u001b[0m\u001b[1;33m(\u001b[0m\u001b[1;33m)\u001b[0m\u001b[1;33m\u001b[0m\u001b[1;33m\u001b[0m\u001b[0m\n\u001b[0m\u001b[0;32m    591\u001b[0m \u001b[1;33m\u001b[0m\u001b[0m\n\u001b[0;32m    592\u001b[0m     \u001b[1;32mdef\u001b[0m \u001b[0mget\u001b[0m\u001b[1;33m(\u001b[0m\u001b[0mself\u001b[0m\u001b[1;33m)\u001b[0m\u001b[1;33m:\u001b[0m\u001b[1;33m\u001b[0m\u001b[1;33m\u001b[0m\u001b[0m\n",
      "\u001b[1;32m~\\anaconda3\\lib\\site-packages\\joblib\\parallel.py\u001b[0m in \u001b[0;36m__call__\u001b[1;34m(self)\u001b[0m\n\u001b[0;32m    254\u001b[0m         \u001b[1;32mwith\u001b[0m \u001b[0mparallel_backend\u001b[0m\u001b[1;33m(\u001b[0m\u001b[0mself\u001b[0m\u001b[1;33m.\u001b[0m\u001b[0m_backend\u001b[0m\u001b[1;33m,\u001b[0m \u001b[0mn_jobs\u001b[0m\u001b[1;33m=\u001b[0m\u001b[0mself\u001b[0m\u001b[1;33m.\u001b[0m\u001b[0m_n_jobs\u001b[0m\u001b[1;33m)\u001b[0m\u001b[1;33m:\u001b[0m\u001b[1;33m\u001b[0m\u001b[1;33m\u001b[0m\u001b[0m\n\u001b[0;32m    255\u001b[0m             return [func(*args, **kwargs)\n\u001b[1;32m--> 256\u001b[1;33m                     for func, args, kwargs in self.items]\n\u001b[0m\u001b[0;32m    257\u001b[0m \u001b[1;33m\u001b[0m\u001b[0m\n\u001b[0;32m    258\u001b[0m     \u001b[1;32mdef\u001b[0m \u001b[0m__len__\u001b[0m\u001b[1;33m(\u001b[0m\u001b[0mself\u001b[0m\u001b[1;33m)\u001b[0m\u001b[1;33m:\u001b[0m\u001b[1;33m\u001b[0m\u001b[1;33m\u001b[0m\u001b[0m\n",
      "\u001b[1;32m~\\anaconda3\\lib\\site-packages\\joblib\\parallel.py\u001b[0m in \u001b[0;36m<listcomp>\u001b[1;34m(.0)\u001b[0m\n\u001b[0;32m    254\u001b[0m         \u001b[1;32mwith\u001b[0m \u001b[0mparallel_backend\u001b[0m\u001b[1;33m(\u001b[0m\u001b[0mself\u001b[0m\u001b[1;33m.\u001b[0m\u001b[0m_backend\u001b[0m\u001b[1;33m,\u001b[0m \u001b[0mn_jobs\u001b[0m\u001b[1;33m=\u001b[0m\u001b[0mself\u001b[0m\u001b[1;33m.\u001b[0m\u001b[0m_n_jobs\u001b[0m\u001b[1;33m)\u001b[0m\u001b[1;33m:\u001b[0m\u001b[1;33m\u001b[0m\u001b[1;33m\u001b[0m\u001b[0m\n\u001b[0;32m    255\u001b[0m             return [func(*args, **kwargs)\n\u001b[1;32m--> 256\u001b[1;33m                     for func, args, kwargs in self.items]\n\u001b[0m\u001b[0;32m    257\u001b[0m \u001b[1;33m\u001b[0m\u001b[0m\n\u001b[0;32m    258\u001b[0m     \u001b[1;32mdef\u001b[0m \u001b[0m__len__\u001b[0m\u001b[1;33m(\u001b[0m\u001b[0mself\u001b[0m\u001b[1;33m)\u001b[0m\u001b[1;33m:\u001b[0m\u001b[1;33m\u001b[0m\u001b[1;33m\u001b[0m\u001b[0m\n",
      "\u001b[1;32m~\\anaconda3\\lib\\site-packages\\sklearn\\ensemble\\_forest.py\u001b[0m in \u001b[0;36m_parallel_build_trees\u001b[1;34m(tree, forest, X, y, sample_weight, tree_idx, n_trees, verbose, class_weight, n_samples_bootstrap)\u001b[0m\n\u001b[0;32m    163\u001b[0m             \u001b[0mcurr_sample_weight\u001b[0m \u001b[1;33m*=\u001b[0m \u001b[0mcompute_sample_weight\u001b[0m\u001b[1;33m(\u001b[0m\u001b[1;34m'balanced'\u001b[0m\u001b[1;33m,\u001b[0m \u001b[0my\u001b[0m\u001b[1;33m,\u001b[0m \u001b[0mindices\u001b[0m\u001b[1;33m)\u001b[0m\u001b[1;33m\u001b[0m\u001b[1;33m\u001b[0m\u001b[0m\n\u001b[0;32m    164\u001b[0m \u001b[1;33m\u001b[0m\u001b[0m\n\u001b[1;32m--> 165\u001b[1;33m         \u001b[0mtree\u001b[0m\u001b[1;33m.\u001b[0m\u001b[0mfit\u001b[0m\u001b[1;33m(\u001b[0m\u001b[0mX\u001b[0m\u001b[1;33m,\u001b[0m \u001b[0my\u001b[0m\u001b[1;33m,\u001b[0m \u001b[0msample_weight\u001b[0m\u001b[1;33m=\u001b[0m\u001b[0mcurr_sample_weight\u001b[0m\u001b[1;33m,\u001b[0m \u001b[0mcheck_input\u001b[0m\u001b[1;33m=\u001b[0m\u001b[1;32mFalse\u001b[0m\u001b[1;33m)\u001b[0m\u001b[1;33m\u001b[0m\u001b[1;33m\u001b[0m\u001b[0m\n\u001b[0m\u001b[0;32m    166\u001b[0m     \u001b[1;32melse\u001b[0m\u001b[1;33m:\u001b[0m\u001b[1;33m\u001b[0m\u001b[1;33m\u001b[0m\u001b[0m\n\u001b[0;32m    167\u001b[0m         \u001b[0mtree\u001b[0m\u001b[1;33m.\u001b[0m\u001b[0mfit\u001b[0m\u001b[1;33m(\u001b[0m\u001b[0mX\u001b[0m\u001b[1;33m,\u001b[0m \u001b[0my\u001b[0m\u001b[1;33m,\u001b[0m \u001b[0msample_weight\u001b[0m\u001b[1;33m=\u001b[0m\u001b[0msample_weight\u001b[0m\u001b[1;33m,\u001b[0m \u001b[0mcheck_input\u001b[0m\u001b[1;33m=\u001b[0m\u001b[1;32mFalse\u001b[0m\u001b[1;33m)\u001b[0m\u001b[1;33m\u001b[0m\u001b[1;33m\u001b[0m\u001b[0m\n",
      "\u001b[1;32m~\\anaconda3\\lib\\site-packages\\sklearn\\tree\\_classes.py\u001b[0m in \u001b[0;36mfit\u001b[1;34m(self, X, y, sample_weight, check_input, X_idx_sorted)\u001b[0m\n\u001b[0;32m   1223\u001b[0m             \u001b[0msample_weight\u001b[0m\u001b[1;33m=\u001b[0m\u001b[0msample_weight\u001b[0m\u001b[1;33m,\u001b[0m\u001b[1;33m\u001b[0m\u001b[1;33m\u001b[0m\u001b[0m\n\u001b[0;32m   1224\u001b[0m             \u001b[0mcheck_input\u001b[0m\u001b[1;33m=\u001b[0m\u001b[0mcheck_input\u001b[0m\u001b[1;33m,\u001b[0m\u001b[1;33m\u001b[0m\u001b[1;33m\u001b[0m\u001b[0m\n\u001b[1;32m-> 1225\u001b[1;33m             X_idx_sorted=X_idx_sorted)\n\u001b[0m\u001b[0;32m   1226\u001b[0m         \u001b[1;32mreturn\u001b[0m \u001b[0mself\u001b[0m\u001b[1;33m\u001b[0m\u001b[1;33m\u001b[0m\u001b[0m\n\u001b[0;32m   1227\u001b[0m \u001b[1;33m\u001b[0m\u001b[0m\n",
      "\u001b[1;32m~\\anaconda3\\lib\\site-packages\\sklearn\\tree\\_classes.py\u001b[0m in \u001b[0;36mfit\u001b[1;34m(self, X, y, sample_weight, check_input, X_idx_sorted)\u001b[0m\n\u001b[0;32m    365\u001b[0m                                            min_impurity_split)\n\u001b[0;32m    366\u001b[0m \u001b[1;33m\u001b[0m\u001b[0m\n\u001b[1;32m--> 367\u001b[1;33m         \u001b[0mbuilder\u001b[0m\u001b[1;33m.\u001b[0m\u001b[0mbuild\u001b[0m\u001b[1;33m(\u001b[0m\u001b[0mself\u001b[0m\u001b[1;33m.\u001b[0m\u001b[0mtree_\u001b[0m\u001b[1;33m,\u001b[0m \u001b[0mX\u001b[0m\u001b[1;33m,\u001b[0m \u001b[0my\u001b[0m\u001b[1;33m,\u001b[0m \u001b[0msample_weight\u001b[0m\u001b[1;33m,\u001b[0m \u001b[0mX_idx_sorted\u001b[0m\u001b[1;33m)\u001b[0m\u001b[1;33m\u001b[0m\u001b[1;33m\u001b[0m\u001b[0m\n\u001b[0m\u001b[0;32m    368\u001b[0m \u001b[1;33m\u001b[0m\u001b[0m\n\u001b[0;32m    369\u001b[0m         \u001b[1;32mif\u001b[0m \u001b[0mself\u001b[0m\u001b[1;33m.\u001b[0m\u001b[0mn_outputs_\u001b[0m \u001b[1;33m==\u001b[0m \u001b[1;36m1\u001b[0m \u001b[1;32mand\u001b[0m \u001b[0mis_classifier\u001b[0m\u001b[1;33m(\u001b[0m\u001b[0mself\u001b[0m\u001b[1;33m)\u001b[0m\u001b[1;33m:\u001b[0m\u001b[1;33m\u001b[0m\u001b[1;33m\u001b[0m\u001b[0m\n",
      "\u001b[1;31mKeyboardInterrupt\u001b[0m: "
     ]
    }
   ],
   "source": [
    "model1=RandomForestRegressor()\n",
    "model1.fit(X_train,y_train)"
   ]
  },
  {
   "cell_type": "code",
   "execution_count": 42,
   "metadata": {},
   "outputs": [],
   "source": [
    "from sklearn.ensemble import RandomForestClassifier"
   ]
  },
  {
   "cell_type": "code",
   "execution_count": 44,
   "metadata": {},
   "outputs": [
    {
     "data": {
      "text/plain": [
       "RandomForestClassifier(bootstrap=True, ccp_alpha=0.0, class_weight=None,\n",
       "                       criterion='gini', max_depth=None, max_features='auto',\n",
       "                       max_leaf_nodes=None, max_samples=None,\n",
       "                       min_impurity_decrease=0.0, min_impurity_split=None,\n",
       "                       min_samples_leaf=1, min_samples_split=2,\n",
       "                       min_weight_fraction_leaf=0.0, n_estimators=100,\n",
       "                       n_jobs=None, oob_score=False, random_state=None,\n",
       "                       verbose=0, warm_start=False)"
      ]
     },
     "execution_count": 44,
     "metadata": {},
     "output_type": "execute_result"
    }
   ],
   "source": [
    "model1=RandomForestClassifier()\n",
    "model1.fit(X_train,y_train)"
   ]
  },
  {
   "cell_type": "code",
   "execution_count": 45,
   "metadata": {},
   "outputs": [],
   "source": [
    "preds1=model1.predict(X_test)"
   ]
  },
  {
   "cell_type": "code",
   "execution_count": 46,
   "metadata": {},
   "outputs": [
    {
     "data": {
      "text/plain": [
       "array([2, 3, 2, ..., 2, 2, 1])"
      ]
     },
     "execution_count": 46,
     "metadata": {},
     "output_type": "execute_result"
    }
   ],
   "source": [
    "preds1\n"
   ]
  },
  {
   "cell_type": "code",
   "execution_count": 48,
   "metadata": {},
   "outputs": [],
   "source": [
    "from sklearn.ensemble import GradientBoostingClassifier"
   ]
  },
  {
   "cell_type": "code",
   "execution_count": 49,
   "metadata": {},
   "outputs": [
    {
     "data": {
      "text/plain": [
       "GradientBoostingClassifier(ccp_alpha=0.0, criterion='friedman_mse', init=None,\n",
       "                           learning_rate=0.1, loss='deviance', max_depth=3,\n",
       "                           max_features=None, max_leaf_nodes=None,\n",
       "                           min_impurity_decrease=0.0, min_impurity_split=None,\n",
       "                           min_samples_leaf=1, min_samples_split=2,\n",
       "                           min_weight_fraction_leaf=0.0, n_estimators=100,\n",
       "                           n_iter_no_change=None, presort='deprecated',\n",
       "                           random_state=None, subsample=1.0, tol=0.0001,\n",
       "                           validation_fraction=0.1, verbose=0,\n",
       "                           warm_start=False)"
      ]
     },
     "execution_count": 49,
     "metadata": {},
     "output_type": "execute_result"
    }
   ],
   "source": [
    "model2=GradientBoostingClassifier()\n",
    "model2.fit(X_train,y_train)"
   ]
  },
  {
   "cell_type": "code",
   "execution_count": null,
   "metadata": {},
   "outputs": [],
   "source": []
  },
  {
   "cell_type": "code",
   "execution_count": null,
   "metadata": {},
   "outputs": [],
   "source": [
    "def vote(preds,preds1,preds2):\n",
    "    n=len(preds)\n",
    "    for i in range(len):\n",
    "        li=[0]*3\n",
    "        for item in (preds[i],pred1[i])"
   ]
  }
 ],
 "metadata": {
  "kernelspec": {
   "display_name": "Python 3",
   "language": "python",
   "name": "python3"
  },
  "language_info": {
   "codemirror_mode": {
    "name": "ipython",
    "version": 3
   },
   "file_extension": ".py",
   "mimetype": "text/x-python",
   "name": "python",
   "nbconvert_exporter": "python",
   "pygments_lexer": "ipython3",
   "version": "3.7.6"
  }
 },
 "nbformat": 4,
 "nbformat_minor": 4
}
